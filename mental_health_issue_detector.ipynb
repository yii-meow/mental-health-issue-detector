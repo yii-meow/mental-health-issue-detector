{
 "cells": [
  {
   "cell_type": "markdown",
   "id": "8356470b",
   "metadata": {},
   "source": [
    "## Importing Libraries"
   ]
  },
  {
   "cell_type": "code",
   "execution_count": 11,
   "id": "088121ab",
   "metadata": {},
   "outputs": [],
   "source": [
    "import pandas as pd\n",
    "import numpy as np\n",
    "from matplotlib import pyplot as plt\n",
    "import nltk\n",
    "from nltk.stem import PorterStemmer\n",
    "import seaborn as sns\n",
    "import warnings\n",
    "warnings.filterwarnings('ignore')\n",
    "\n",
    "from sklearn.model_selection import train_test_split, RandomizedSearchCV\n",
    "from sklearn.feature_extraction.text import TfidfVectorizer \n",
    "from sklearn.ensemble import RandomForestClassifier, VotingClassifier\n",
    "from sklearn.naive_bayes import GaussianNB, MultinomialNB, BernoulliNB\n",
    "from sklearn.tree import DecisionTreeClassifier"
   ]
  },
  {
   "cell_type": "markdown",
   "id": "beb6dd07",
   "metadata": {},
   "source": [
    "# Data Proprocessing"
   ]
  },
  {
   "cell_type": "markdown",
   "id": "b0c65623",
   "metadata": {},
   "source": [
    "## Loading Data"
   ]
  },
  {
   "cell_type": "markdown",
   "id": "ec597687",
   "metadata": {},
   "source": [
    "Load the data, and have am of the data"
   ]
  },
  {
   "cell_type": "code",
   "execution_count": 2,
   "id": "a3787719",
   "metadata": {},
   "outputs": [
    {
     "name": "stdout",
     "output_type": "stream",
     "text": [
      "   Unnamed: 0                                               text        class\n",
      "0           2  Ex Wife Threatening SuicideRecently I left my ...      suicide\n",
      "1           3  Am I weird I don't get affected by compliments...  non-suicide\n",
      "2           4  Finally 2020 is almost over... So I can never ...  non-suicide\n",
      "3           8          i need helpjust help me im crying so hard      suicide\n",
      "4           9  I’m so lostHello, my name is Adam (16) and I’v...      suicide \n",
      "\n",
      "<class 'pandas.core.frame.DataFrame'>\n",
      "RangeIndex: 232074 entries, 0 to 232073\n",
      "Data columns (total 3 columns):\n",
      " #   Column      Non-Null Count   Dtype \n",
      "---  ------      --------------   ----- \n",
      " 0   Unnamed: 0  232074 non-null  int64 \n",
      " 1   text        232074 non-null  object\n",
      " 2   class       232074 non-null  object\n",
      "dtypes: int64(1), object(2)\n",
      "memory usage: 5.3+ MB\n",
      "None \n",
      "\n",
      "Shape:  (232074, 3)\n"
     ]
    }
   ],
   "source": [
    "data = pd.read_csv('Suicide_Detection.csv')\n",
    "\n",
    "print(data.head(),\"\\n\")\n",
    "print(data.info(),\"\\n\")\n",
    "print(\"Shape: \",data.shape)\n",
    "\n",
    "# Convert String to int values\n",
    "data['suicide'] = data['class'].apply(lambda x: 1 if x == 'suicide' else 0)"
   ]
  },
  {
   "cell_type": "markdown",
   "id": "a686f9ed",
   "metadata": {},
   "source": [
    "The column 'Unnammed: 0' is a meaningless column at here, thus we can delete it"
   ]
  },
  {
   "cell_type": "code",
   "execution_count": 3,
   "id": "7d5cc9c8",
   "metadata": {},
   "outputs": [
    {
     "data": {
      "text/html": [
       "<div>\n",
       "<style scoped>\n",
       "    .dataframe tbody tr th:only-of-type {\n",
       "        vertical-align: middle;\n",
       "    }\n",
       "\n",
       "    .dataframe tbody tr th {\n",
       "        vertical-align: top;\n",
       "    }\n",
       "\n",
       "    .dataframe thead th {\n",
       "        text-align: right;\n",
       "    }\n",
       "</style>\n",
       "<table border=\"1\" class=\"dataframe\">\n",
       "  <thead>\n",
       "    <tr style=\"text-align: right;\">\n",
       "      <th></th>\n",
       "      <th>text</th>\n",
       "      <th>class</th>\n",
       "      <th>suicide</th>\n",
       "    </tr>\n",
       "  </thead>\n",
       "  <tbody>\n",
       "    <tr>\n",
       "      <th>0</th>\n",
       "      <td>Ex Wife Threatening SuicideRecently I left my ...</td>\n",
       "      <td>suicide</td>\n",
       "      <td>1</td>\n",
       "    </tr>\n",
       "    <tr>\n",
       "      <th>1</th>\n",
       "      <td>Am I weird I don't get affected by compliments...</td>\n",
       "      <td>non-suicide</td>\n",
       "      <td>0</td>\n",
       "    </tr>\n",
       "    <tr>\n",
       "      <th>2</th>\n",
       "      <td>Finally 2020 is almost over... So I can never ...</td>\n",
       "      <td>non-suicide</td>\n",
       "      <td>0</td>\n",
       "    </tr>\n",
       "    <tr>\n",
       "      <th>3</th>\n",
       "      <td>i need helpjust help me im crying so hard</td>\n",
       "      <td>suicide</td>\n",
       "      <td>1</td>\n",
       "    </tr>\n",
       "    <tr>\n",
       "      <th>4</th>\n",
       "      <td>I’m so lostHello, my name is Adam (16) and I’v...</td>\n",
       "      <td>suicide</td>\n",
       "      <td>1</td>\n",
       "    </tr>\n",
       "  </tbody>\n",
       "</table>\n",
       "</div>"
      ],
      "text/plain": [
       "                                                text        class  suicide\n",
       "0  Ex Wife Threatening SuicideRecently I left my ...      suicide        1\n",
       "1  Am I weird I don't get affected by compliments...  non-suicide        0\n",
       "2  Finally 2020 is almost over... So I can never ...  non-suicide        0\n",
       "3          i need helpjust help me im crying so hard      suicide        1\n",
       "4  I’m so lostHello, my name is Adam (16) and I’v...      suicide        1"
      ]
     },
     "execution_count": 3,
     "metadata": {},
     "output_type": "execute_result"
    }
   ],
   "source": [
    "data.drop(columns = 'Unnamed: 0', inplace=True)\n",
    "data.head()"
   ]
  },
  {
   "cell_type": "markdown",
   "id": "77c6079c",
   "metadata": {},
   "source": [
    "Check is null value available"
   ]
  },
  {
   "cell_type": "code",
   "execution_count": 4,
   "id": "9169f40f",
   "metadata": {},
   "outputs": [
    {
     "data": {
      "text/plain": [
       "text       0\n",
       "class      0\n",
       "suicide    0\n",
       "dtype: int64"
      ]
     },
     "execution_count": 4,
     "metadata": {},
     "output_type": "execute_result"
    }
   ],
   "source": [
    "data.isnull().sum()"
   ]
  },
  {
   "cell_type": "markdown",
   "id": "b30b03e3",
   "metadata": {},
   "source": [
    "## Data Visualization"
   ]
  },
  {
   "cell_type": "code",
   "execution_count": 5,
   "id": "a9c2bf93",
   "metadata": {},
   "outputs": [
    {
     "name": "stdout",
     "output_type": "stream",
     "text": [
      "1    116037\n",
      "0    116037\n",
      "Name: suicide, dtype: int64\n"
     ]
    },
    {
     "data": {
      "image/png": "[encoded data removed]",
      "text/plain": [
       "<Figure size 1440x360 with 1 Axes>"
      ]
     },
     "metadata": {},
     "output_type": "display_data"
    }
   ],
   "source": [
    "classCount = data[\"suicide\"].value_counts()\n",
    "print(classCount)\n",
    "\n",
    "plt.figure(figsize=((20,5)))\n",
    "\n",
    "plt.subplot(1,2,2)\n",
    "plt.pie(classCount,labels = classCount.index,autopct='%.0f%%')\n",
    "\n",
    "plt.show()\n"
   ]
  },
  {
   "cell_type": "markdown",
   "id": "08e8162e",
   "metadata": {},
   "source": [
    "## Text Processing"
   ]
  },
  {
   "cell_type": "code",
   "execution_count": 6,
   "id": "83fd72df",
   "metadata": {},
   "outputs": [],
   "source": [
    "# Convert texts to lower case\n",
    "data['text'] = data['text'].str.lower()\n",
    "\n",
    "# Remove punctuations\n",
    "data['text'] = data['text'].str.replace(r'[^\\w\\s]+','',regex=True)\n",
    "\n",
    "# Remove stop words\n",
    "from nltk.corpus import stopwords\n",
    "# nltk.download('stopwords')\n",
    "\n",
    "stop_words = stopwords.words('english')\n",
    "data['text'] = data['text'].apply(lambda x: ' '.join([word for word in x.split() if word not in (stop_words)]))\n",
    "\n",
    "# Tokenize the words\n",
    "data['text'] = data['text'].apply(lambda x:nltk.word_tokenize(x))"
   ]
  },
  {
   "cell_type": "code",
   "execution_count": 7,
   "id": "81ac09b8",
   "metadata": {},
   "outputs": [
    {
     "data": {
      "text/html": [
       "<div>\n",
       "<style scoped>\n",
       "    .dataframe tbody tr th:only-of-type {\n",
       "        vertical-align: middle;\n",
       "    }\n",
       "\n",
       "    .dataframe tbody tr th {\n",
       "        vertical-align: top;\n",
       "    }\n",
       "\n",
       "    .dataframe thead th {\n",
       "        text-align: right;\n",
       "    }\n",
       "</style>\n",
       "<table border=\"1\" class=\"dataframe\">\n",
       "  <thead>\n",
       "    <tr style=\"text-align: right;\">\n",
       "      <th></th>\n",
       "      <th>text</th>\n",
       "      <th>class</th>\n",
       "      <th>suicide</th>\n",
       "    </tr>\n",
       "  </thead>\n",
       "  <tbody>\n",
       "    <tr>\n",
       "      <th>0</th>\n",
       "      <td>ex wife threaten suiciderec left wife good che...</td>\n",
       "      <td>suicide</td>\n",
       "      <td>1</td>\n",
       "    </tr>\n",
       "    <tr>\n",
       "      <th>1</th>\n",
       "      <td>weird dont get affect compliment come someon k...</td>\n",
       "      <td>non-suicide</td>\n",
       "      <td>0</td>\n",
       "    </tr>\n",
       "    <tr>\n",
       "      <th>2</th>\n",
       "      <td>final 2020 almost never hear 2020 bad year eve...</td>\n",
       "      <td>non-suicide</td>\n",
       "      <td>0</td>\n",
       "    </tr>\n",
       "    <tr>\n",
       "      <th>3</th>\n",
       "      <td>need helpjust help im cri hard</td>\n",
       "      <td>suicide</td>\n",
       "      <td>1</td>\n",
       "    </tr>\n",
       "    <tr>\n",
       "      <th>4</th>\n",
       "      <td>im losthello name adam 16 ive struggl year im ...</td>\n",
       "      <td>suicide</td>\n",
       "      <td>1</td>\n",
       "    </tr>\n",
       "  </tbody>\n",
       "</table>\n",
       "</div>"
      ],
      "text/plain": [
       "                                                text        class  suicide\n",
       "0  ex wife threaten suiciderec left wife good che...      suicide        1\n",
       "1  weird dont get affect compliment come someon k...  non-suicide        0\n",
       "2  final 2020 almost never hear 2020 bad year eve...  non-suicide        0\n",
       "3                     need helpjust help im cri hard      suicide        1\n",
       "4  im losthello name adam 16 ive struggl year im ...      suicide        1"
      ]
     },
     "execution_count": 7,
     "metadata": {},
     "output_type": "execute_result"
    }
   ],
   "source": [
    "# Stemming the words\n",
    "ps = PorterStemmer()\n",
    "data['text'] = data['text'].apply(lambda x: [ps.stem(i) for i in x])\n",
    "\n",
    "# Combine the stemmed words\n",
    "data['text'] = data['text'].apply(lambda x: ' '.join(x))\n",
    "\n",
    "data.head()"
   ]
  },
  {
   "cell_type": "markdown",
   "id": "332a0edf",
   "metadata": {},
   "source": [
    "## Split Data"
   ]
  },
  {
   "cell_type": "code",
   "execution_count": 8,
   "id": "fdf64652",
   "metadata": {},
   "outputs": [
    {
     "data": {
      "text/plain": [
       "((162451, 5000), (69623, 5000))"
      ]
     },
     "execution_count": 8,
     "metadata": {},
     "output_type": "execute_result"
    }
   ],
   "source": [
    "x,y = data['text'],data['suicide']\n",
    "\n",
    "vectorizer = TfidfVectorizer(min_df=50,max_features=5000)\n",
    "x = vectorizer.fit_transform(x).toarray()\n",
    "\n",
    "X_train, X_test, y_train, y_test = train_test_split(x,y,test_size=0.30,random_state=5)\n",
    "X_train.shape, X_test.shape"
   ]
  },
  {
   "cell_type": "markdown",
   "id": "e17ef331",
   "metadata": {},
   "source": [
    "# Models Predictions"
   ]
  },
  {
   "cell_type": "markdown",
   "id": "238bb6ba",
   "metadata": {},
   "source": [
    "## Naive Bayes"
   ]
  },
  {
   "cell_type": "code",
   "execution_count": 9,
   "id": "a3df70b8",
   "metadata": {},
   "outputs": [
    {
     "name": "stdout",
     "output_type": "stream",
     "text": [
      "Training Score =  0.9024567408018418\n",
      "Testing Score =  0.8993723338551916\n"
     ]
    }
   ],
   "source": [
    "naive_bayes_gaussian = GaussianNB()\n",
    "naive_bayes_bernoulli = BernoulliNB()\n",
    "naive_bayes_multinomial = MultinomialNB()\n",
    "\n",
    "VotingClassifiers = VotingClassifier(\n",
    "    estimators=[\n",
    "        ('GaussianNB',naive_bayes_gaussian),\n",
    "        ('Bernoulli',naive_bayes_bernoulli),\n",
    "        ('Multinomial',naive_bayes_multinomial)\n",
    "    ],voting='soft'\n",
    ")\n",
    "\n",
    "VotingClassifiers.fit(X_train,y_train)\n",
    "\n",
    "# Score for Training\n",
    "print(\"Training Score = \",VotingClassifiers.score(X_train,y_train))\n",
    "\n",
    "# Score for Testing\n",
    "print(\"Testing Score = \",VotingClassifiers.score(X_test,y_test))"
   ]
  },
  {
   "cell_type": "markdown",
   "id": "56a7b957",
   "metadata": {},
   "source": [
    "## Random Forest"
   ]
  },
  {
   "cell_type": "code",
   "execution_count": 14,
   "id": "66e8548b",
   "metadata": {},
   "outputs": [
    {
     "name": "stdout",
     "output_type": "stream",
     "text": [
      "Training Score =  0.7529347310881435\n",
      "Testing Score =  0.7538457119055485\n"
     ]
    }
   ],
   "source": [
    "random_forest_classifier = RandomizedSearchCV(\n",
    "    RandomForestClassifier(),\n",
    "    {\n",
    "        'n_estimators':[4,5],\n",
    "        'criterion':['entropy'],\n",
    "        'max_depth':range(1,4),'min_samples_split':range(2,5)\n",
    "    }, random_state=10\n",
    ")\n",
    "\n",
    "random_forest_classifier.fit(X_train,y_train)\n",
    "\n",
    "# Score for Training\n",
    "print(\"Training Score = \",random_forest_classifier.score(X_train,y_train))\n",
    "\n",
    "# Score for Testing\n",
    "print(\"Testing Score = \",random_forest_classifier.score(X_test,y_test))"
   ]
  },
  {
   "cell_type": "markdown",
   "id": "10915d47",
   "metadata": {},
   "source": [
    "## Decision Tree"
   ]
  },
  {
   "cell_type": "code",
   "execution_count": null,
   "id": "bfee1eae",
   "metadata": {},
   "outputs": [],
   "source": [
    "decision_tree_classifier = DecisionTreeClassifier(criterion='gini',splitter='random',min_samples_leaf=70,max_depth=4,random_state=0)\n",
    "decision_tree_classifier.fit(X_train,y_train)\n",
    "                             \n",
    "# Score for Training\n",
    "print(\"Training Score = \",decision_tree_classifier.score(X_train,y_train))\n",
    "                             \n",
    "# Score for Testing\n",
    "print(\"Testing Score = \",decision_tree_classifier.score(X_test,y_test))"
   ]
  },
  {
   "cell_type": "markdown",
   "id": "d3ffd1cf",
   "metadata": {},
   "source": [
    "### Conclusion"
   ]
  },
  {
   "cell_type": "code",
   "execution_count": null,
   "id": "cbef7821",
   "metadata": {},
   "outputs": [],
   "source": []
  }
 ],
 "metadata": {
  "kernelspec": {
   "display_name": "Python 3 (ipykernel)",
   "language": "python",
   "name": "python3"
  },
  "language_info": {
   "codemirror_mode": {
    "name": "ipython",
    "version": 3
   },
   "file_extension": ".py",
   "mimetype": "text/x-python",
   "name": "python",
   "nbconvert_exporter": "python",
   "pygments_lexer": "ipython3",
   "version": "3.9.12"
  }
 },
 "nbformat": 4,
 "nbformat_minor": 5
}
